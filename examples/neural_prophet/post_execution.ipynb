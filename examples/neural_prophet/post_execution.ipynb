{
 "cells": [
  {
   "cell_type": "markdown",
   "id": "013a8a8d",
   "metadata": {},
   "source": [
    "# Exploring the pipeline\n",
    "\n",
    "Here, we use a simple post-execution flow to fetch the a trained pipeline and inspect the results. To run this notebook, please make sure you have run the pipeline defined in `run.py`.\n",
    "\n",
    "```python\n",
    "zenml init\n",
    "python run.py\n",
    "```\n",
    "\n",
    "And then continue:"
   ]
  },
  {
   "cell_type": "markdown",
   "id": "64b9c241",
   "metadata": {},
   "source": [
    "## Fetch the results"
   ]
  },
  {
   "cell_type": "code",
   "execution_count": null,
   "id": "a0dc8382",
   "metadata": {},
   "outputs": [],
   "source": [
    "from zenml.repository import Repository"
   ]
  },
  {
   "cell_type": "code",
   "execution_count": null,
   "id": "3ffbc50a",
   "metadata": {},
   "outputs": [],
   "source": [
    "# Fetch the pipeline\n",
    "repo = Repository()\n",
    "pipe = repo.get_pipeline('neural_prophet_pipeline')"
   ]
  },
  {
   "cell_type": "code",
   "execution_count": null,
   "id": "b9c02a11",
   "metadata": {},
   "outputs": [],
   "source": [
    "# Fetch the data\n",
    "df_train = pipe.runs[-1].get_step(name=\"data_loader\").outputs['df_train'].read()\n",
    "df_test = pipe.runs[-1].get_step(name=\"data_loader\").outputs['df_test'].read()"
   ]
  },
  {
   "cell_type": "code",
   "execution_count": null,
   "id": "fdf3dec7",
   "metadata": {},
   "outputs": [],
   "source": [
    "# Fetch the model\n",
    "m = pipe.runs[-1].get_step(name=\"trainer\").output.read()"
   ]
  },
  {
   "cell_type": "code",
   "execution_count": null,
   "id": "66e345ab",
   "metadata": {},
   "outputs": [],
   "source": [
    "# These are the parameters the model was trained on, tracked by ZenML:\n",
    "pipe.runs[-1].get_step(name=\"trainer\").parameters"
   ]
  },
  {
   "cell_type": "code",
   "execution_count": null,
   "id": "661cca05",
   "metadata": {},
   "outputs": [],
   "source": [
    "# These are the predictions made on df_train\n",
    "forecast = pipe.runs[-1].get_step(name=\"predicter\").output.read()"
   ]
  },
  {
   "cell_type": "markdown",
   "id": "dd47ee2b",
   "metadata": {},
   "source": [
    "## Plot visualizations"
   ]
  },
  {
   "cell_type": "code",
   "execution_count": null,
   "id": "280b16fb",
   "metadata": {
    "scrolled": true
   },
   "outputs": [],
   "source": [
    "# Plot on df_train\n",
    "fig = m.plot(forecast)"
   ]
  },
  {
   "cell_type": "code",
   "execution_count": null,
   "id": "4e4eeb22",
   "metadata": {},
   "outputs": [],
   "source": [
    "# plot nth step ahead\n",
    "forecast = m.predict(df_test)\n",
    "m = m.highlight_nth_step_ahead_of_each_forecast(1)\n",
    "fig = m.plot(forecast[-7*24:])"
   ]
  }
 ],
 "metadata": {
  "kernelspec": {
   "display_name": "Python 3 (ipykernel)",
   "language": "python",
   "name": "python3"
  },
  "language_info": {
   "codemirror_mode": {
    "name": "ipython",
    "version": 3
   },
   "file_extension": ".py",
   "mimetype": "text/x-python",
   "name": "python",
   "nbconvert_exporter": "python",
   "pygments_lexer": "ipython3",
   "version": "3.8.10"
  }
 },
 "nbformat": 4,
 "nbformat_minor": 5
}
